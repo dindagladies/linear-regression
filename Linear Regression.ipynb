{
 "cells": [
  {
   "cell_type": "code",
   "execution_count": 3,
   "id": "a05a26ba",
   "metadata": {},
   "outputs": [],
   "source": [
    "# data analysis tools\n",
    "import pandas as pd\n",
    "import numpy as np\n",
    "\n",
    "# visualisasi data\n",
    "import matplotlib.pyplot as plt\n",
    "import seaborn as sns\n",
    "\n",
    "from sklearn.linear_model import LinearRegression\n",
    "from sklearn.model_selection import train_test_split"
   ]
  },
  {
   "cell_type": "code",
   "execution_count": 4,
   "id": "998039ec",
   "metadata": {},
   "outputs": [],
   "source": [
    "df = pd.read_csv('kc_house_data.csv', usecols=['bedrooms', 'bathrooms', 'sqft_living', 'grade', 'price'])"
   ]
  },
  {
   "cell_type": "code",
   "execution_count": 5,
   "id": "d0fe52ad",
   "metadata": {},
   "outputs": [
    {
     "data": {
      "text/html": [
       "<div>\n",
       "<style scoped>\n",
       "    .dataframe tbody tr th:only-of-type {\n",
       "        vertical-align: middle;\n",
       "    }\n",
       "\n",
       "    .dataframe tbody tr th {\n",
       "        vertical-align: top;\n",
       "    }\n",
       "\n",
       "    .dataframe thead th {\n",
       "        text-align: right;\n",
       "    }\n",
       "</style>\n",
       "<table border=\"1\" class=\"dataframe\">\n",
       "  <thead>\n",
       "    <tr style=\"text-align: right;\">\n",
       "      <th></th>\n",
       "      <th>price</th>\n",
       "      <th>bedrooms</th>\n",
       "      <th>bathrooms</th>\n",
       "      <th>sqft_living</th>\n",
       "      <th>grade</th>\n",
       "    </tr>\n",
       "  </thead>\n",
       "  <tbody>\n",
       "    <tr>\n",
       "      <th>0</th>\n",
       "      <td>221900.0</td>\n",
       "      <td>3</td>\n",
       "      <td>1.00</td>\n",
       "      <td>1180</td>\n",
       "      <td>7</td>\n",
       "    </tr>\n",
       "    <tr>\n",
       "      <th>1</th>\n",
       "      <td>538000.0</td>\n",
       "      <td>3</td>\n",
       "      <td>2.25</td>\n",
       "      <td>2570</td>\n",
       "      <td>7</td>\n",
       "    </tr>\n",
       "    <tr>\n",
       "      <th>2</th>\n",
       "      <td>180000.0</td>\n",
       "      <td>2</td>\n",
       "      <td>1.00</td>\n",
       "      <td>770</td>\n",
       "      <td>6</td>\n",
       "    </tr>\n",
       "    <tr>\n",
       "      <th>3</th>\n",
       "      <td>604000.0</td>\n",
       "      <td>4</td>\n",
       "      <td>3.00</td>\n",
       "      <td>1960</td>\n",
       "      <td>7</td>\n",
       "    </tr>\n",
       "    <tr>\n",
       "      <th>4</th>\n",
       "      <td>510000.0</td>\n",
       "      <td>3</td>\n",
       "      <td>2.00</td>\n",
       "      <td>1680</td>\n",
       "      <td>8</td>\n",
       "    </tr>\n",
       "  </tbody>\n",
       "</table>\n",
       "</div>"
      ],
      "text/plain": [
       "      price  bedrooms  bathrooms  sqft_living  grade\n",
       "0  221900.0         3       1.00         1180      7\n",
       "1  538000.0         3       2.25         2570      7\n",
       "2  180000.0         2       1.00          770      6\n",
       "3  604000.0         4       3.00         1960      7\n",
       "4  510000.0         3       2.00         1680      8"
      ]
     },
     "execution_count": 5,
     "metadata": {},
     "output_type": "execute_result"
    }
   ],
   "source": [
    "#Melihat 5 baris teratas dari data.\n",
    "#Independent variabel(x) adalah bedrooms, bathrooms, sqft_living, grade, yr_built.\n",
    "#Dependent variabel(y) adalah price.\n",
    "df.head()"
   ]
  },
  {
   "cell_type": "code",
   "execution_count": 6,
   "id": "a25a012f",
   "metadata": {},
   "outputs": [
    {
     "data": {
      "text/plain": [
       "(21613, 5)"
      ]
     },
     "execution_count": 6,
     "metadata": {},
     "output_type": "execute_result"
    }
   ],
   "source": [
    "#Mengetahui jumlah kolom dan baris dari data.\n",
    "#Data mempunyai 6 kolom (features) dengan 21613 baris.\n",
    "df.shape"
   ]
  },
  {
   "cell_type": "code",
   "execution_count": 7,
   "id": "a04412e1",
   "metadata": {},
   "outputs": [
    {
     "name": "stdout",
     "output_type": "stream",
     "text": [
      "<class 'pandas.core.frame.DataFrame'>\n",
      "RangeIndex: 21613 entries, 0 to 21612\n",
      "Data columns (total 5 columns):\n",
      " #   Column       Non-Null Count  Dtype  \n",
      "---  ------       --------------  -----  \n",
      " 0   price        21613 non-null  float64\n",
      " 1   bedrooms     21613 non-null  int64  \n",
      " 2   bathrooms    21613 non-null  float64\n",
      " 3   sqft_living  21613 non-null  int64  \n",
      " 4   grade        21613 non-null  int64  \n",
      "dtypes: float64(2), int64(3)\n",
      "memory usage: 844.4 KB\n"
     ]
    }
   ],
   "source": [
    "#Melihat informasi data mulai dari jumlah data, tipe data, memory yang digunakan dll.\n",
    "#Dapat dilihat bahwa seluruh data sudah di dalam bentuk numerik.\n",
    "df.info()"
   ]
  },
  {
   "cell_type": "code",
   "execution_count": 8,
   "id": "2e1dd497",
   "metadata": {},
   "outputs": [
    {
     "data": {
      "text/html": [
       "<div>\n",
       "<style scoped>\n",
       "    .dataframe tbody tr th:only-of-type {\n",
       "        vertical-align: middle;\n",
       "    }\n",
       "\n",
       "    .dataframe tbody tr th {\n",
       "        vertical-align: top;\n",
       "    }\n",
       "\n",
       "    .dataframe thead th {\n",
       "        text-align: right;\n",
       "    }\n",
       "</style>\n",
       "<table border=\"1\" class=\"dataframe\">\n",
       "  <thead>\n",
       "    <tr style=\"text-align: right;\">\n",
       "      <th></th>\n",
       "      <th>price</th>\n",
       "      <th>bedrooms</th>\n",
       "      <th>bathrooms</th>\n",
       "      <th>sqft_living</th>\n",
       "      <th>grade</th>\n",
       "    </tr>\n",
       "  </thead>\n",
       "  <tbody>\n",
       "    <tr>\n",
       "      <th>count</th>\n",
       "      <td>2.161300e+04</td>\n",
       "      <td>21613.000000</td>\n",
       "      <td>21613.000000</td>\n",
       "      <td>21613.000000</td>\n",
       "      <td>21613.000000</td>\n",
       "    </tr>\n",
       "    <tr>\n",
       "      <th>mean</th>\n",
       "      <td>5.400881e+05</td>\n",
       "      <td>3.370842</td>\n",
       "      <td>2.114757</td>\n",
       "      <td>2079.899736</td>\n",
       "      <td>7.656873</td>\n",
       "    </tr>\n",
       "    <tr>\n",
       "      <th>std</th>\n",
       "      <td>3.671272e+05</td>\n",
       "      <td>0.930062</td>\n",
       "      <td>0.770163</td>\n",
       "      <td>918.440897</td>\n",
       "      <td>1.175459</td>\n",
       "    </tr>\n",
       "    <tr>\n",
       "      <th>min</th>\n",
       "      <td>7.500000e+04</td>\n",
       "      <td>0.000000</td>\n",
       "      <td>0.000000</td>\n",
       "      <td>290.000000</td>\n",
       "      <td>1.000000</td>\n",
       "    </tr>\n",
       "    <tr>\n",
       "      <th>25%</th>\n",
       "      <td>3.219500e+05</td>\n",
       "      <td>3.000000</td>\n",
       "      <td>1.750000</td>\n",
       "      <td>1427.000000</td>\n",
       "      <td>7.000000</td>\n",
       "    </tr>\n",
       "    <tr>\n",
       "      <th>50%</th>\n",
       "      <td>4.500000e+05</td>\n",
       "      <td>3.000000</td>\n",
       "      <td>2.250000</td>\n",
       "      <td>1910.000000</td>\n",
       "      <td>7.000000</td>\n",
       "    </tr>\n",
       "    <tr>\n",
       "      <th>75%</th>\n",
       "      <td>6.450000e+05</td>\n",
       "      <td>4.000000</td>\n",
       "      <td>2.500000</td>\n",
       "      <td>2550.000000</td>\n",
       "      <td>8.000000</td>\n",
       "    </tr>\n",
       "    <tr>\n",
       "      <th>max</th>\n",
       "      <td>7.700000e+06</td>\n",
       "      <td>33.000000</td>\n",
       "      <td>8.000000</td>\n",
       "      <td>13540.000000</td>\n",
       "      <td>13.000000</td>\n",
       "    </tr>\n",
       "  </tbody>\n",
       "</table>\n",
       "</div>"
      ],
      "text/plain": [
       "              price      bedrooms     bathrooms   sqft_living         grade\n",
       "count  2.161300e+04  21613.000000  21613.000000  21613.000000  21613.000000\n",
       "mean   5.400881e+05      3.370842      2.114757   2079.899736      7.656873\n",
       "std    3.671272e+05      0.930062      0.770163    918.440897      1.175459\n",
       "min    7.500000e+04      0.000000      0.000000    290.000000      1.000000\n",
       "25%    3.219500e+05      3.000000      1.750000   1427.000000      7.000000\n",
       "50%    4.500000e+05      3.000000      2.250000   1910.000000      7.000000\n",
       "75%    6.450000e+05      4.000000      2.500000   2550.000000      8.000000\n",
       "max    7.700000e+06     33.000000      8.000000  13540.000000     13.000000"
      ]
     },
     "execution_count": 8,
     "metadata": {},
     "output_type": "execute_result"
    }
   ],
   "source": [
    "#Melihat statistical description dari data mulai dari mean, kuartil, standard deviation dll.\n",
    "df.describe()"
   ]
  },
  {
   "cell_type": "code",
   "execution_count": 9,
   "id": "c93b3476",
   "metadata": {},
   "outputs": [],
   "source": [
    "# bathrooms terdapat pecahan\n",
    "# bedrooms terdapat nilai 33"
   ]
  },
  {
   "cell_type": "code",
   "execution_count": 10,
   "id": "bd180bb0",
   "metadata": {},
   "outputs": [],
   "source": [
    "#Merubah tipe data dari bathrooms yang semula float menjadi int.\n",
    "df['bathroom'] = df['bathrooms'].astype('int')\n",
    "\n",
    "#Mengganti nilai 33 menjadi 3.\n",
    "df['bedrooms'] = df['bedrooms'].replace(33, 3)"
   ]
  },
  {
   "cell_type": "code",
   "execution_count": 11,
   "id": "bc1c51f2",
   "metadata": {},
   "outputs": [
    {
     "data": {
      "text/plain": [
       "price          0\n",
       "bedrooms       0\n",
       "bathrooms      0\n",
       "sqft_living    0\n",
       "grade          0\n",
       "bathroom       0\n",
       "dtype: int64"
      ]
     },
     "execution_count": 11,
     "metadata": {},
     "output_type": "execute_result"
    }
   ],
   "source": [
    "# 4. cek data yg kosong\n",
    "#Mencari dan menangani missing values.\n",
    "#Ternyata datanya sudah tidak ada missing values.\n",
    "\n",
    "df.isnull().sum()"
   ]
  },
  {
   "cell_type": "code",
   "execution_count": 12,
   "id": "8d7779c4",
   "metadata": {},
   "outputs": [
    {
     "name": "stderr",
     "output_type": "stream",
     "text": [
      "C:\\Users\\gladis\\anaconda3\\lib\\site-packages\\seaborn\\_decorators.py:36: FutureWarning: Pass the following variable as a keyword arg: x. From version 0.12, the only valid positional argument will be `data`, and passing other arguments without an explicit keyword will result in an error or misinterpretation.\n",
      "  warnings.warn(\n"
     ]
    },
    {
     "data": {
      "image/png": "[encoded data removed]",
      "text/plain": [
       "<Figure size 864x288 with 2 Axes>"
      ]
     },
     "metadata": {
      "needs_background": "light"
     },
     "output_type": "display_data"
    }
   ],
   "source": [
    "# 5. Exploratory Data Analysis (bedrooms)\n",
    "#Univariate analysis bedrooms.\n",
    "\n",
    "f = plt.figure(figsize=(12,4))\n",
    "\n",
    "f.add_subplot(1,2,1)\n",
    "sns.countplot(df['bedrooms'])\n",
    "\n",
    "f.add_subplot(1,2,2)\n",
    "plt.boxplot(df['bedrooms'])\n",
    "plt.show()"
   ]
  },
  {
   "cell_type": "code",
   "execution_count": 13,
   "id": "d111e276",
   "metadata": {},
   "outputs": [],
   "source": [
    "# Dapat dilihat bahwa sebagian besar jumlah kamar tidur itu di angka 3 dan 4.\n",
    "# Data memiliki banyak outliers."
   ]
  },
  {
   "cell_type": "code",
   "execution_count": 14,
   "id": "c49ccab4",
   "metadata": {},
   "outputs": [
    {
     "name": "stderr",
     "output_type": "stream",
     "text": [
      "C:\\Users\\gladis\\anaconda3\\lib\\site-packages\\seaborn\\_decorators.py:36: FutureWarning: Pass the following variable as a keyword arg: x. From version 0.12, the only valid positional argument will be `data`, and passing other arguments without an explicit keyword will result in an error or misinterpretation.\n",
      "  warnings.warn(\n"
     ]
    },
    {
     "data": {
      "image/png": "[encoded data removed]",
      "text/plain": [
       "<Figure size 864x288 with 2 Axes>"
      ]
     },
     "metadata": {
      "needs_background": "light"
     },
     "output_type": "display_data"
    }
   ],
   "source": [
    "# Exploratory Data Analysis (bathrooms)\n",
    "\n",
    "f = plt.figure(figsize=(12,4))\n",
    "\n",
    "f.add_subplot(1,2,1)\n",
    "sns.countplot(df['bathrooms'])\n",
    "\n",
    "f.add_subplot(1,2,2)\n",
    "plt.boxplot(df['bathrooms'])\n",
    "plt.show()"
   ]
  },
  {
   "cell_type": "code",
   "execution_count": 15,
   "id": "d571a6fc",
   "metadata": {},
   "outputs": [
    {
     "data": {
      "image/png": "[encoded data removed]",
      "text/plain": [
       "<Figure size 864x288 with 2 Axes>"
      ]
     },
     "metadata": {
      "needs_background": "light"
     },
     "output_type": "display_data"
    }
   ],
   "source": [
    "f = plt.figure(figsize = (12, 4))\n",
    "\n",
    "f.add_subplot(1, 2, 1)\n",
    "df['sqft_living'].plot(kind='kde')\n",
    "\n",
    "f.add_subplot(1, 2, 2)\n",
    "plt.boxplot(df['sqft_living'])\n",
    "plt.show()"
   ]
  },
  {
   "cell_type": "code",
   "execution_count": 16,
   "id": "53a44b21",
   "metadata": {},
   "outputs": [
    {
     "name": "stderr",
     "output_type": "stream",
     "text": [
      "C:\\Users\\gladis\\anaconda3\\lib\\site-packages\\seaborn\\_decorators.py:36: FutureWarning: Pass the following variable as a keyword arg: x. From version 0.12, the only valid positional argument will be `data`, and passing other arguments without an explicit keyword will result in an error or misinterpretation.\n",
      "  warnings.warn(\n"
     ]
    },
    {
     "data": {
      "image/png": "[encoded data removed]",
      "text/plain": [
       "<Figure size 864x288 with 2 Axes>"
      ]
     },
     "metadata": {
      "needs_background": "light"
     },
     "output_type": "display_data"
    }
   ],
   "source": [
    "f = plt.figure(figsize=(12,4))\n",
    "\n",
    "f.add_subplot(1,2,1)\n",
    "sns.countplot(df['grade'])\n",
    "\n",
    "f.add_subplot(1,2,2)\n",
    "plt.boxplot(df['grade'])\n",
    "plt.show()"
   ]
  },
  {
   "cell_type": "code",
   "execution_count": 17,
   "id": "5f061f67",
   "metadata": {},
   "outputs": [
    {
     "name": "stderr",
     "output_type": "stream",
     "text": [
      "C:\\Users\\gladis\\anaconda3\\lib\\site-packages\\seaborn\\axisgrid.py:2076: UserWarning: The `size` parameter has been renamed to `height`; please update your code.\n",
      "  warnings.warn(msg, UserWarning)\n"
     ]
    },
    {
     "data": {
      "text/plain": [
       "<seaborn.axisgrid.PairGrid at 0x23571b038b0>"
      ]
     },
     "execution_count": 17,
     "metadata": {},
     "output_type": "execute_result"
    },
    {
     "data": {
      "text/plain": [
       "<Figure size 720x576 with 0 Axes>"
      ]
     },
     "metadata": {},
     "output_type": "display_data"
    },
    {
     "data": {
      "image/png": "[encoded data removed]",
      "text/plain": [
       "<Figure size 1080x360 with 4 Axes>"
      ]
     },
     "metadata": {
      "needs_background": "light"
     },
     "output_type": "display_data"
    }
   ],
   "source": [
    "#Bivariate analysis antara independent variable dan dependent variable.\n",
    "\n",
    "plt.figure(figsize=(10,8))\n",
    "sns.pairplot(data=df, x_vars=['bedrooms', 'bathrooms', 'sqft_living', 'grade'], y_vars=['price'], size=5, aspect=0.75)"
   ]
  },
  {
   "cell_type": "code",
   "execution_count": 18,
   "id": "6e39b823",
   "metadata": {},
   "outputs": [
    {
     "name": "stderr",
     "output_type": "stream",
     "text": [
      "C:\\Users\\gladis\\AppData\\Local\\Temp/ipykernel_12760/3294473991.py:2: FutureWarning: this method is deprecated in favour of `Styler.format(precision=..)`\n",
      "  df.corr().style.background_gradient().set_precision(2)\n"
     ]
    },
    {
     "data": {
      "text/html": [
       "<style type=\"text/css\">\n",
       "#T_b27c9_row0_col0, #T_b27c9_row1_col1, #T_b27c9_row2_col2, #T_b27c9_row3_col3, #T_b27c9_row4_col4, #T_b27c9_row5_col5 {\n",
       "  background-color: #023858;\n",
       "  color: #f1f1f1;\n",
       "}\n",
       "#T_b27c9_row0_col1, #T_b27c9_row0_col2, #T_b27c9_row1_col0, #T_b27c9_row1_col3, #T_b27c9_row1_col4, #T_b27c9_row1_col5 {\n",
       "  background-color: #fff7fb;\n",
       "  color: #000000;\n",
       "}\n",
       "#T_b27c9_row0_col3 {\n",
       "  background-color: #c9cee4;\n",
       "  color: #000000;\n",
       "}\n",
       "#T_b27c9_row0_col4 {\n",
       "  background-color: #7eadd1;\n",
       "  color: #f1f1f1;\n",
       "}\n",
       "#T_b27c9_row0_col5 {\n",
       "  background-color: #f7f0f7;\n",
       "  color: #000000;\n",
       "}\n",
       "#T_b27c9_row1_col2 {\n",
       "  background-color: #fef6fa;\n",
       "  color: #000000;\n",
       "}\n",
       "#T_b27c9_row2_col0 {\n",
       "  background-color: #bdc8e1;\n",
       "  color: #000000;\n",
       "}\n",
       "#T_b27c9_row2_col1 {\n",
       "  background-color: #bcc7e1;\n",
       "  color: #000000;\n",
       "}\n",
       "#T_b27c9_row2_col3 {\n",
       "  background-color: #9cb9d9;\n",
       "  color: #000000;\n",
       "}\n",
       "#T_b27c9_row2_col4 {\n",
       "  background-color: #80aed2;\n",
       "  color: #f1f1f1;\n",
       "}\n",
       "#T_b27c9_row2_col5 {\n",
       "  background-color: #045b8f;\n",
       "  color: #f1f1f1;\n",
       "}\n",
       "#T_b27c9_row3_col0 {\n",
       "  background-color: #549cc7;\n",
       "  color: #f1f1f1;\n",
       "}\n",
       "#T_b27c9_row3_col1 {\n",
       "  background-color: #9ab8d8;\n",
       "  color: #000000;\n",
       "}\n",
       "#T_b27c9_row3_col2 {\n",
       "  background-color: #7bacd1;\n",
       "  color: #f1f1f1;\n",
       "}\n",
       "#T_b27c9_row3_col4 {\n",
       "  background-color: #358fc0;\n",
       "  color: #f1f1f1;\n",
       "}\n",
       "#T_b27c9_row3_col5, #T_b27c9_row4_col3 {\n",
       "  background-color: #94b6d7;\n",
       "  color: #000000;\n",
       "}\n",
       "#T_b27c9_row4_col0 {\n",
       "  background-color: #6da6cd;\n",
       "  color: #f1f1f1;\n",
       "}\n",
       "#T_b27c9_row4_col1 {\n",
       "  background-color: #f4edf6;\n",
       "  color: #000000;\n",
       "}\n",
       "#T_b27c9_row4_col2 {\n",
       "  background-color: #c1cae2;\n",
       "  color: #000000;\n",
       "}\n",
       "#T_b27c9_row4_col5 {\n",
       "  background-color: #d2d2e7;\n",
       "  color: #000000;\n",
       "}\n",
       "#T_b27c9_row5_col0 {\n",
       "  background-color: #c5cce3;\n",
       "  color: #000000;\n",
       "}\n",
       "#T_b27c9_row5_col1 {\n",
       "  background-color: #d2d3e7;\n",
       "  color: #000000;\n",
       "}\n",
       "#T_b27c9_row5_col2 {\n",
       "  background-color: #045e93;\n",
       "  color: #f1f1f1;\n",
       "}\n",
       "#T_b27c9_row5_col3 {\n",
       "  background-color: #cdd0e5;\n",
       "  color: #000000;\n",
       "}\n",
       "#T_b27c9_row5_col4 {\n",
       "  background-color: #a4bcda;\n",
       "  color: #000000;\n",
       "}\n",
       "</style>\n",
       "<table id=\"T_b27c9_\">\n",
       "  <thead>\n",
       "    <tr>\n",
       "      <th class=\"blank level0\" >&nbsp;</th>\n",
       "      <th class=\"col_heading level0 col0\" >price</th>\n",
       "      <th class=\"col_heading level0 col1\" >bedrooms</th>\n",
       "      <th class=\"col_heading level0 col2\" >bathrooms</th>\n",
       "      <th class=\"col_heading level0 col3\" >sqft_living</th>\n",
       "      <th class=\"col_heading level0 col4\" >grade</th>\n",
       "      <th class=\"col_heading level0 col5\" >bathroom</th>\n",
       "    </tr>\n",
       "  </thead>\n",
       "  <tbody>\n",
       "    <tr>\n",
       "      <th id=\"T_b27c9_level0_row0\" class=\"row_heading level0 row0\" >price</th>\n",
       "      <td id=\"T_b27c9_row0_col0\" class=\"data row0 col0\" >1.00</td>\n",
       "      <td id=\"T_b27c9_row0_col1\" class=\"data row0 col1\" >0.32</td>\n",
       "      <td id=\"T_b27c9_row0_col2\" class=\"data row0 col2\" >0.53</td>\n",
       "      <td id=\"T_b27c9_row0_col3\" class=\"data row0 col3\" >0.70</td>\n",
       "      <td id=\"T_b27c9_row0_col4\" class=\"data row0 col4\" >0.67</td>\n",
       "      <td id=\"T_b27c9_row0_col5\" class=\"data row0 col5\" >0.51</td>\n",
       "    </tr>\n",
       "    <tr>\n",
       "      <th id=\"T_b27c9_level0_row1\" class=\"row_heading level0 row1\" >bedrooms</th>\n",
       "      <td id=\"T_b27c9_row1_col0\" class=\"data row1 col0\" >0.32</td>\n",
       "      <td id=\"T_b27c9_row1_col1\" class=\"data row1 col1\" >1.00</td>\n",
       "      <td id=\"T_b27c9_row1_col2\" class=\"data row1 col2\" >0.53</td>\n",
       "      <td id=\"T_b27c9_row1_col3\" class=\"data row1 col3\" >0.59</td>\n",
       "      <td id=\"T_b27c9_row1_col4\" class=\"data row1 col4\" >0.37</td>\n",
       "      <td id=\"T_b27c9_row1_col5\" class=\"data row1 col5\" >0.48</td>\n",
       "    </tr>\n",
       "    <tr>\n",
       "      <th id=\"T_b27c9_level0_row2\" class=\"row_heading level0 row2\" >bathrooms</th>\n",
       "      <td id=\"T_b27c9_row2_col0\" class=\"data row2 col0\" >0.53</td>\n",
       "      <td id=\"T_b27c9_row2_col1\" class=\"data row2 col1\" >0.53</td>\n",
       "      <td id=\"T_b27c9_row2_col2\" class=\"data row2 col2\" >1.00</td>\n",
       "      <td id=\"T_b27c9_row2_col3\" class=\"data row2 col3\" >0.75</td>\n",
       "      <td id=\"T_b27c9_row2_col4\" class=\"data row2 col4\" >0.66</td>\n",
       "      <td id=\"T_b27c9_row2_col5\" class=\"data row2 col5\" >0.93</td>\n",
       "    </tr>\n",
       "    <tr>\n",
       "      <th id=\"T_b27c9_level0_row3\" class=\"row_heading level0 row3\" >sqft_living</th>\n",
       "      <td id=\"T_b27c9_row3_col0\" class=\"data row3 col0\" >0.70</td>\n",
       "      <td id=\"T_b27c9_row3_col1\" class=\"data row3 col1\" >0.59</td>\n",
       "      <td id=\"T_b27c9_row3_col2\" class=\"data row3 col2\" >0.75</td>\n",
       "      <td id=\"T_b27c9_row3_col3\" class=\"data row3 col3\" >1.00</td>\n",
       "      <td id=\"T_b27c9_row3_col4\" class=\"data row3 col4\" >0.76</td>\n",
       "      <td id=\"T_b27c9_row3_col5\" class=\"data row3 col5\" >0.70</td>\n",
       "    </tr>\n",
       "    <tr>\n",
       "      <th id=\"T_b27c9_level0_row4\" class=\"row_heading level0 row4\" >grade</th>\n",
       "      <td id=\"T_b27c9_row4_col0\" class=\"data row4 col0\" >0.67</td>\n",
       "      <td id=\"T_b27c9_row4_col1\" class=\"data row4 col1\" >0.37</td>\n",
       "      <td id=\"T_b27c9_row4_col2\" class=\"data row4 col2\" >0.66</td>\n",
       "      <td id=\"T_b27c9_row4_col3\" class=\"data row4 col3\" >0.76</td>\n",
       "      <td id=\"T_b27c9_row4_col4\" class=\"data row4 col4\" >1.00</td>\n",
       "      <td id=\"T_b27c9_row4_col5\" class=\"data row4 col5\" >0.61</td>\n",
       "    </tr>\n",
       "    <tr>\n",
       "      <th id=\"T_b27c9_level0_row5\" class=\"row_heading level0 row5\" >bathroom</th>\n",
       "      <td id=\"T_b27c9_row5_col0\" class=\"data row5 col0\" >0.51</td>\n",
       "      <td id=\"T_b27c9_row5_col1\" class=\"data row5 col1\" >0.48</td>\n",
       "      <td id=\"T_b27c9_row5_col2\" class=\"data row5 col2\" >0.93</td>\n",
       "      <td id=\"T_b27c9_row5_col3\" class=\"data row5 col3\" >0.70</td>\n",
       "      <td id=\"T_b27c9_row5_col4\" class=\"data row5 col4\" >0.61</td>\n",
       "      <td id=\"T_b27c9_row5_col5\" class=\"data row5 col5\" >1.00</td>\n",
       "    </tr>\n",
       "  </tbody>\n",
       "</table>\n"
      ],
      "text/plain": [
       "<pandas.io.formats.style.Styler at 0x23571c27550>"
      ]
     },
     "execution_count": 18,
     "metadata": {},
     "output_type": "execute_result"
    }
   ],
   "source": [
    "#Mengetahui nilai korelasi dari independent variable dan dependent variable.\n",
    "df.corr().style.background_gradient().set_precision(2)"
   ]
  },
  {
   "cell_type": "code",
   "execution_count": 19,
   "id": "d891193a",
   "metadata": {},
   "outputs": [
    {
     "name": "stdout",
     "output_type": "stream",
     "text": [
      "[ -44240.69417505 -106707.73582716     229.62103338   95716.89921218\n",
      "   94248.88509634]\n",
      "-460286.21153268253\n"
     ]
    }
   ],
   "source": [
    "#Pertama, buat variabel x dan y.\n",
    "x = df.drop(columns='price')\n",
    "y = df['price']\n",
    "\n",
    "#Kedua, split data menjadi training and testing dengan porsi 80:20.\n",
    "x_train, x_test, y_train, y_test = train_test_split(x, y, test_size=0.2, random_state=4)\n",
    "\n",
    "#Ketiga, bikin object linear regresi.\n",
    "lin_reg = LinearRegression()\n",
    "\n",
    "#Keempat, train the model menggunakan training data yang sudah displit.\n",
    "lin_reg.fit(x_train, y_train)\n",
    "\n",
    "#Kelima, cari tau nilai slope/koefisien (m) dan intercept (b).\n",
    "print(lin_reg.coef_)\n",
    "print(lin_reg.intercept_)"
   ]
  },
  {
   "cell_type": "code",
   "execution_count": 20,
   "id": "dfc63be3",
   "metadata": {},
   "outputs": [
    {
     "data": {
      "text/plain": [
       "0.5440099790552907"
      ]
     },
     "execution_count": 20,
     "metadata": {},
     "output_type": "execute_result"
    }
   ],
   "source": [
    "lin_reg.score(x_test, y_test)"
   ]
  },
  {
   "cell_type": "code",
   "execution_count": 91,
   "id": "f0e2c598",
   "metadata": {},
   "outputs": [
    {
     "data": {
      "text/plain": [
       "array([1.87832194e+08])"
      ]
     },
     "execution_count": 91,
     "metadata": {},
     "output_type": "execute_result"
    }
   ],
   "source": [
    "lin_reg.predict([[3,2,1800,7,1990]])"
   ]
  }
 ],
 "metadata": {
  "kernelspec": {
   "display_name": "Python 3 (ipykernel)",
   "language": "python",
   "name": "python3"
  },
  "language_info": {
   "codemirror_mode": {
    "name": "ipython",
    "version": 3
   },
   "file_extension": ".py",
   "mimetype": "text/x-python",
   "name": "python",
   "nbconvert_exporter": "python",
   "pygments_lexer": "ipython3",
   "version": "3.9.7"
  }
 },
 "nbformat": 4,
 "nbformat_minor": 5
}
