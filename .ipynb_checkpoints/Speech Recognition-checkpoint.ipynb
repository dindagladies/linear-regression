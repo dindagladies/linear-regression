{
 "cells": [
  {
   "cell_type": "code",
   "execution_count": 4,
   "id": "b6c96fe6",
   "metadata": {},
   "outputs": [],
   "source": [
    "#!pip install --upgrade speechrecognition\n",
    "import speech_recognition as sr\n",
    "#sr.__version__"
   ]
  },
  {
   "cell_type": "code",
   "execution_count": 5,
   "id": "35c083db",
   "metadata": {},
   "outputs": [
    {
     "name": "stdout",
     "output_type": "stream",
     "text": [
      "Silahkan mulai bicara\n",
      "Waktu habis\n",
      "cek cek 123\n"
     ]
    }
   ],
   "source": [
    "engine = sr.Recognizer()\n",
    "mic = sr.Microphone()\n",
    "hasil = \"\"\n",
    "engine.pause_treshold = 3\n",
    "\n",
    "with mic as source:\n",
    "    print(\"Silahkan mulai bicara\")\n",
    "    rekaman = engine.listen(source)\n",
    "    print(\"Waktu habis\")\n",
    "    \n",
    "    try:\n",
    "        hasil = engine.recognize_google(rekaman, language =\"id-ID\")\n",
    "        print(hasil)\n",
    "    except engine.UnknownValueError:\n",
    "        print(\"Tidak bisa mendeteksi\")\n",
    "    except Exception as e:\n",
    "        print(e)"
   ]
  },
  {
   "cell_type": "code",
   "execution_count": null,
   "id": "c2384a2f",
   "metadata": {},
   "outputs": [],
   "source": []
  }
 ],
 "metadata": {
  "kernelspec": {
   "display_name": "Python 3 (ipykernel)",
   "language": "python",
   "name": "python3"
  },
  "language_info": {
   "codemirror_mode": {
    "name": "ipython",
    "version": 3
   },
   "file_extension": ".py",
   "mimetype": "text/x-python",
   "name": "python",
   "nbconvert_exporter": "python",
   "pygments_lexer": "ipython3",
   "version": "3.9.7"
  }
 },
 "nbformat": 4,
 "nbformat_minor": 5
}
