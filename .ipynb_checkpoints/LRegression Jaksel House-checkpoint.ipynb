{
 "cells": [
  {
   "cell_type": "code",
   "execution_count": null,
   "id": "a0bc9838",
   "metadata": {},
   "outputs": [],
   "source": [
    "import pandas as pd\n",
    "import matplotlib.pyplot as plt\n",
    "import seaborn as sns\n",
    "import numpy as np"
   ]
  },
  {
   "cell_type": "code",
   "execution_count": null,
   "id": "72ad034a",
   "metadata": {},
   "outputs": [],
   "source": [
    "df = pd.read_csv('rumah_jaksel.csv')\n",
    "df.info()\n",
    "df.head()"
   ]
  },
  {
   "cell_type": "code",
   "execution_count": null,
   "id": "1cdc6dd4",
   "metadata": {},
   "outputs": [],
   "source": [
    "df = pd.DataFrame(df['HARGAl; LT; LB; JKT; JKM; GRS; KOTA'].str.split(';', 6).tolist(),\n",
    "                 columns = ['Harga', 'Luas_Tanah(m2)', 'Luas_Bangunan(m2)', 'Kamar_Tidur', 'Kamar_Mandi', 'Garansi_Mobil', 'Lokasi']\n",
    "                 )"
   ]
  },
  {
   "cell_type": "code",
   "execution_count": null,
   "id": "40cec20a",
   "metadata": {},
   "outputs": [],
   "source": [
    "df['HargaJual'] = df['Harga']\n",
    "del df['Harga']"
   ]
  },
  {
   "cell_type": "code",
   "execution_count": null,
   "id": "89ed6082",
   "metadata": {},
   "outputs": [],
   "source": [
    "df.head()"
   ]
  },
  {
   "cell_type": "code",
   "execution_count": null,
   "id": "5d68d1a8",
   "metadata": {},
   "outputs": [],
   "source": [
    "df['Harga'] = df['HargaJual'].str.replace('.', '').astype(float)\n",
    "del df['HargaJual']"
   ]
  },
  {
   "cell_type": "code",
   "execution_count": null,
   "id": "7c296245",
   "metadata": {},
   "outputs": [],
   "source": [
    "df[['Luas_Tanah(m2)', 'Luas_Bangunan(m2)', 'Kamar_Tidur', 'Kamar_Mandi']] = df[['Luas_Tanah(m2)', 'Luas_Bangunan(m2)', 'Kamar_Tidur', 'Kamar_Mandi']].apply(pd.to_numeri)\n",
    "df.head()"
   ]
  },
  {
   "cell_type": "code",
   "execution_count": null,
   "id": "fbb3a97c",
   "metadata": {},
   "outputs": [],
   "source": [
    "df.info()"
   ]
  },
  {
   "cell_type": "code",
   "execution_count": null,
   "id": "575d4180",
   "metadata": {},
   "outputs": [],
   "source": [
    "sns.scatterplot(x = 'Luas_Tanah(m2)',\n",
    "                y = 'Harga',\n",
    "                data = df\n",
    "               )\n",
    "plt.show()"
   ]
  },
  {
   "cell_type": "code",
   "execution_count": null,
   "id": "4e21d0f7",
   "metadata": {},
   "outputs": [],
   "source": [
    "ax = sns.boxplot(x = df['Luas_Tanah(m2)'])"
   ]
  },
  {
   "cell_type": "code",
   "execution_count": null,
   "id": "7ef9da3b",
   "metadata": {},
   "outputs": [],
   "source": [
    "indexNames = df[df['Luas_Tanah(m2)'] > 1500].index\n",
    "df.drop(indexNames, inplace=True)"
   ]
  },
  {
   "cell_type": "code",
   "execution_count": null,
   "id": "26e72765",
   "metadata": {},
   "outputs": [],
   "source": [
    "sns.scatterplot(x = 'Luas_Tanah(m2)',\n",
    "                y = 'Harga',\n",
    "                data = df\n",
    "               )\n",
    "plt.show()"
   ]
  },
  {
   "cell_type": "code",
   "execution_count": null,
   "id": "c886af12",
   "metadata": {},
   "outputs": [],
   "source": [
    "sns.displot(df['Harga'])"
   ]
  }
 ],
 "metadata": {
  "kernelspec": {
   "display_name": "Python 3 (ipykernel)",
   "language": "python",
   "name": "python3"
  },
  "language_info": {
   "codemirror_mode": {
    "name": "ipython",
    "version": 3
   },
   "file_extension": ".py",
   "mimetype": "text/x-python",
   "name": "python",
   "nbconvert_exporter": "python",
   "pygments_lexer": "ipython3",
   "version": "3.9.7"
  }
 },
 "nbformat": 4,
 "nbformat_minor": 5
}
